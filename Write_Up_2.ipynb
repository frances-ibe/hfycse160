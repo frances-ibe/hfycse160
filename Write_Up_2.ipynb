{
 "cells": [
  {
   "cell_type": "markdown",
   "metadata": {},
   "source": [
    "# 2 Motivation and Background:\n",
    "\n",
    "Consumer buying power is an important metric used by businesses to represent their ability to succeed at a price point in a given marketplace. Thus, having a proxy for consumer buying power is critical for establishing business success strategies, as well as understanding social and class spending habits. A Consumer Price Index (CPI) is a measure of the change in prices consumers pay for a set basket of goods, which is the most commonly used proxy for understanding consumer buying power in a marketplace. However, the CPI lacks the ability to distinguish subtle differences in buying power of consumers of varying socioeconomic classes. Hence, our project seeks to understand how consumers of higher socioeconomic classes versus lower socioeconomic classes rate goods at a certain price point. Our project uses food from restaurants as a proxy for a basket of goods, which limits this analysis to restaurant consumer buying power. However, restaurants are included as one of the goods in the basket that is used to establish the overall CPI, so our analysis is useful when combined with the sub CPI specific to restaurants. For analyzing economic class, we used a predicted median housing price index (Zestimate) and mean income from IRS tax returns as proxies. This analysis provides insight into how consumers view purchasing of goods at certain price points based on the socioeconomic standing within a zip code of interest. This analysis is especially useful in combination with the CPI in estimating whether a business has the ability to succeed in a marketplace at a given price point. This analysis is useful to restaurant owners in the in Las Vegas, Nevada as it provides market insight for restaurants in a per zip code manner.\n"
   ]
  },
  {
   "cell_type": "code",
   "execution_count": null,
   "metadata": {},
   "outputs": [],
   "source": []
  }
 ],
 "metadata": {
  "kernelspec": {
   "display_name": "Python 3",
   "language": "python",
   "name": "python3"
  },
  "language_info": {
   "codemirror_mode": {
    "name": "ipython",
    "version": 3
   },
   "file_extension": ".py",
   "mimetype": "text/x-python",
   "name": "python",
   "nbconvert_exporter": "python",
   "pygments_lexer": "ipython3",
   "version": "3.6.8"
  }
 },
 "nbformat": 4,
 "nbformat_minor": 2
}
