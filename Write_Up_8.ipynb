{
 "cells": [
  {
   "cell_type": "markdown",
   "metadata": {},
   "source": [
    "# 8 Testing the Code\n",
    "\n",
    "This file depicts test code for the preprocessing of our data. If any AssertionErrors are thrown the preprocessing does not perform as expected:"
   ]
  },
  {
   "cell_type": "code",
   "execution_count": 1,
   "metadata": {},
   "outputs": [
    {
     "ename": "SyntaxError",
     "evalue": "invalid syntax (<ipython-input-1-7ed36b2965a3>, line 1)",
     "output_type": "error",
     "traceback": [
      "\u001b[0;36m  File \u001b[0;32m\"<ipython-input-1-7ed36b2965a3>\"\u001b[0;36m, line \u001b[0;32m1\u001b[0m\n\u001b[0;31m    $run dataPreprocessingScript.py\u001b[0m\n\u001b[0m    ^\u001b[0m\n\u001b[0;31mSyntaxError\u001b[0m\u001b[0;31m:\u001b[0m invalid syntax\n"
     ]
    }
   ],
   "source": [
    "%run preProcessTestCode.py"
   ]
  },
  {
   "cell_type": "code",
   "execution_count": 2,
   "metadata": {},
   "outputs": [
    {
     "ename": "ModuleNotFoundError",
     "evalue": "No module named 'preProcess'",
     "output_type": "error",
     "traceback": [
      "\u001b[0;31m---------------------------------------------------------------------------\u001b[0m",
      "\u001b[0;31mModuleNotFoundError\u001b[0m                       Traceback (most recent call last)",
      "\u001b[0;32m<ipython-input-2-4fd6c7ae9ee8>\u001b[0m in \u001b[0;36m<module>\u001b[0;34m\u001b[0m\n\u001b[1;32m     18\u001b[0m \u001b[0;32mimport\u001b[0m \u001b[0mnumpy\u001b[0m \u001b[0;32mas\u001b[0m \u001b[0mnp\u001b[0m\u001b[0;34m\u001b[0m\u001b[0;34m\u001b[0m\u001b[0m\n\u001b[1;32m     19\u001b[0m \u001b[0;32mimport\u001b[0m \u001b[0mpreProcessIRS\u001b[0m \u001b[0;32mas\u001b[0m \u001b[0mppI\u001b[0m\u001b[0;34m\u001b[0m\u001b[0;34m\u001b[0m\u001b[0m\n\u001b[0;32m---> 20\u001b[0;31m \u001b[0;32mimport\u001b[0m \u001b[0mpreProcess\u001b[0m \u001b[0;32mas\u001b[0m \u001b[0mppY\u001b[0m\u001b[0;34m\u001b[0m\u001b[0;34m\u001b[0m\u001b[0m\n\u001b[0m\u001b[1;32m     21\u001b[0m \u001b[0;32mimport\u001b[0m \u001b[0mpreProcessZillow\u001b[0m \u001b[0;32mas\u001b[0m \u001b[0mppZ\u001b[0m\u001b[0;34m\u001b[0m\u001b[0;34m\u001b[0m\u001b[0m\n\u001b[1;32m     22\u001b[0m \u001b[0;32mimport\u001b[0m \u001b[0mpandas\u001b[0m \u001b[0;32mas\u001b[0m \u001b[0mpd\u001b[0m\u001b[0;34m\u001b[0m\u001b[0;34m\u001b[0m\u001b[0m\n",
      "\u001b[0;31mModuleNotFoundError\u001b[0m: No module named 'preProcess'"
     ]
    }
   ],
   "source": [
    "\"\"\" The following code tests basic preprocessing functions we forstatistical\n",
    "testing for the completion of our CSE 160 final project.\n",
    "All supporting code and preprocessed data will be made available.\n",
    "\n",
    "Authors: Frances Ingram-Bate, Nathaniel Linden, Parker Grossjean\n",
    "\n",
    "Updated: March 7th 2019\n",
    "\n",
    "Abbreviations (We will use these throughout the script):\n",
    "-  zhvi - zillow homw value index\n",
    "-  avgPrice - average restuarant price\n",
    "-  yzi - yelp, zillow, IRS\n",
    "\n",
    "Note: This code is requrires the preprocessed data files, alongside the geoJSON\n",
    "file in the same directory in order to compile.\n",
    "\"\"\"\n",
    "# imports\n",
    "import numpy as np\n",
    "import preProcessIRS as ppI\n",
    "import preProcessYelp as ppY\n",
    "import preProcessZillow as ppZ\n",
    "import pandas as pd\n",
    "\n",
    "### Test Yelp Preprocessing ###\n",
    "# We created a mini yelp dataset containing one yelp data objects. The\n",
    "# code should filter for resturantes and return the exact info in the tester data.\n",
    "#\n",
    "# There tester file is called: testYelp.json\n",
    "\n",
    "testDictList = ppY.jsonToDictList('testerYelp.json', (\"business_id\", \"city\", \"postal_code\", \"stars\", \"attributes\"))\n",
    "expectedDictList = [{\"business_id\":\"6fPQJq4f_yiq1NHn0fd11Q\",\"city\":\"Las Vegas\",\"postal_code\":\"89109\",\"stars\":3.5,\"attributes\":{\"RestaurantsTakeOut\":\"True\",\"RestaurantsDelivery\":\"False\",\"RestaurantsGoodForGroups\":\"True\",\"RestaurantsAttire\":\"'casual'\",\"Ambience\":\"{'romantic': False, 'intimate': False, 'touristy': False, 'hipster': False, 'divey': False, 'classy': False, 'trendy': False, 'upscale': False, 'casual': True}\",\"OutdoorSeating\":\"False\",\"BYOBCorkage\":\"'yes_free'\",\"Caters\":\"False\",\"GoodForKids\":\"True\",\"RestaurantsPriceRange2\":\"2\",\"Corkage\":\"False\",\"WiFi\":\"'no'\",\"NoiseLevel\":\"u'average'\",\"Alcohol\":\"'none'\",\"RestaurantsReservations\":\"False\",\"BusinessParking\":\"{'garage': True, 'street': False, 'validated': False, 'lot': False, 'valet': False}\",\"HasTV\":\"False\",\"BikeParking\":\"False\",\"GoodForMeal\":\"{'dessert': True, 'latenight': False, 'lunch': True, 'dinner': False, 'brunch': False, 'breakfast': True}\",\"BusinessAcceptsCreditCards\":\"True\"}}]\n",
    "\n",
    "\n",
    "testDictListCompare = [list(dict.items()) for dict in testDictList]\n",
    "expectedDictListCompare = [list(dict.items()) for dict in expectedDictList]\n",
    "\n",
    "# test if the preProcessing code correctly grabs desired attributes\n",
    "assert(testDictListCompare == expectedDictListCompare)\n",
    "\n",
    "# ensure that we can filter based on city\n",
    "assert(ppY.filterBusinessCity(testDictList, \"Moo Town\") == [])\n",
    "\n",
    "\n",
    "### Test IRS PreProcessing ###\n",
    "# We created a mini IRS dataset containing one IRS zipcode entry.\n",
    "# The average income in that zip code was manuallt coputed and compared to our\n",
    "# algorithm to ensure algorithm precision\n",
    "\n",
    "preProcessVal = ppI.preProcess('16zp29nv.csv',[89109])\n",
    "expectedVal = {89109:np.round((1387614*1000)/7140, 10)}\n",
    "\n",
    "assert(list(preProcessVal.values()) == list(expectedVal.values()))\n",
    "assert(list(preProcessVal.keys()) == list(expectedVal.keys()))\n",
    "\n",
    "### Test Zillow Preprocessing ###\n",
    "# We created a mini zillow dataset containing one zillow entries.\n",
    "# We compared the output to expected outputs\n",
    "\n",
    "df = ppZ.zillPreProcess('testerZillow.csv', fileNameOut='testOut')\n",
    "\n",
    "# check postal codes are correct\n",
    "assert(sorted(list(df[\"postalCode\"])) == [89117, 89121, 89147])\n",
    "\n",
    "# check zhvi are correct\n",
    "assert(sorted(list(df[\"zhvi\"])) == [228200, 279000, 333600])\n"
   ]
  },
  {
   "cell_type": "markdown",
   "metadata": {},
   "source": [
    "Here is the code:"
   ]
  }
 ],
 "metadata": {
  "kernelspec": {
   "display_name": "Python 3",
   "language": "python",
   "name": "python3"
  },
  "language_info": {
   "codemirror_mode": {
    "name": "ipython",
    "version": 3
   },
   "file_extension": ".py",
   "mimetype": "text/x-python",
   "name": "python",
   "nbconvert_exporter": "python",
   "pygments_lexer": "ipython3",
   "version": "3.7.1"
  }
 },
 "nbformat": 4,
 "nbformat_minor": 2
}
