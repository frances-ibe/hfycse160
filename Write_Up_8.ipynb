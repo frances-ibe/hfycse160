{
 "cells": [
  {
   "cell_type": "markdown",
   "metadata": {},
   "source": [
    "# 8 Testing the Code\n",
    "\n",
    "This file depicts test code for the preprocessing of our data. If any AssertionErrors are thrown the preprocessing does not perform as expected."
   ]
  },
  {
   "cell_type": "code",
   "execution_count": 3,
   "metadata": {},
   "outputs": [],
   "source": [
    "%run preProcessTestCode.py"
   ]
  },
  {
   "cell_type": "markdown",
   "metadata": {},
   "source": [
    "Here is the code:"
   ]
  },
  {
   "cell_type": "code",
   "execution_count": 4,
   "metadata": {},
   "outputs": [],
   "source": [
    "\"\"\" The following code tests basic preprocessing functions we forstatistical\n",
    "testing for the completion of our CSE 160 final project.\n",
    "All supporting code and preprocessed data will be made available.\n",
    "\n",
    "Authors: Frances Ingram-Bate, Nathaniel Linden, Parker Grossjean\n",
    "\n",
    "Updated: March 7th 2019\n",
    "\n",
    "Abbreviations (We will use these throughout the script):\n",
    "-  zhvi - zillow homw value index\n",
    "-  avgPrice - average restuarant price\n",
    "-  yzi - yelp, zillow, IRS\n",
    "\n",
    "Note: This code is requrires the preprocessed data files, alongside the geoJSON\n",
    "file in the same directory in order to compile.\n",
    "\"\"\"\n",
    "\n",
    "# imports\n",
    "import numpy as np\n",
    "import preProcessIRS as ppI\n",
    "import preProcessYelp as ppY\n",
    "import preProcessZillow as ppZ\n",
    "import pandas as pd\n",
    "\n",
    "### Test Yelp Preprocessing ###\n",
    "# We created a mini yelp dataset containing one yelp data objects. The\n",
    "# code should filter for resturantes and return the exact info in the tester data.\n",
    "#\n",
    "# There tester file is called: testYelp.json\n",
    "\n",
    "testDictList = ppY.jsonToDictList('testerYelp.json', (\"business_id\", \"city\", \"postal_code\", \"stars\", \"attributes\"))\n",
    "expectedDictList = [{\"business_id\":\"6fPQJq4f_yiq1NHn0fd11Q\",\"city\":\"Las Vegas\",\"postal_code\":\"89109\",\"stars\":3.5,\"attributes\":{\"RestaurantsTakeOut\":\"True\",\"RestaurantsDelivery\":\"False\",\"RestaurantsGoodForGroups\":\"True\",\"RestaurantsAttire\":\"'casual'\",\"Ambience\":\"{'romantic': False, 'intimate': False, 'touristy': False, 'hipster': False, 'divey': False, 'classy': False, 'trendy': False, 'upscale': False, 'casual': True}\",\"OutdoorSeating\":\"False\",\"BYOBCorkage\":\"'yes_free'\",\"Caters\":\"False\",\"GoodForKids\":\"True\",\"RestaurantsPriceRange2\":\"2\",\"Corkage\":\"False\",\"WiFi\":\"'no'\",\"NoiseLevel\":\"u'average'\",\"Alcohol\":\"'none'\",\"RestaurantsReservations\":\"False\",\"BusinessParking\":\"{'garage': True, 'street': False, 'validated': False, 'lot': False, 'valet': False}\",\"HasTV\":\"False\",\"BikeParking\":\"False\",\"GoodForMeal\":\"{'dessert': True, 'latenight': False, 'lunch': True, 'dinner': False, 'brunch': False, 'breakfast': True}\",\"BusinessAcceptsCreditCards\":\"True\"}}]\n",
    "\n",
    "\n",
    "testDictListCompare = [list(dict.items()) for dict in testDictList]\n",
    "expectedDictListCompare = [list(dict.items()) for dict in expectedDictList]\n",
    "\n",
    "# test if the preProcessing code correctly grabs desired attributes\n",
    "assert(testDictListCompare == expectedDictListCompare)\n",
    "\n",
    "# ensure that we can filter based on city\n",
    "assert(ppY.filterBusinessCity(testDictList, \"Moo Town\") == [])\n",
    "\n",
    "\n",
    "### Test IRS PreProcessing ###\n",
    "# We created a mini IRS dataset containing one IRS zipcode entry.\n",
    "# The average income in that zip code was manuallt coputed and compared to our\n",
    "# algorithm to ensure algorithm precision\n",
    "\n",
    "preProcessVal = ppI.preProcess('16zp29nv.csv',[89109])\n",
    "expectedVal = {89109:np.round((1387614*1000)/7140, 10)}\n",
    "\n",
    "assert(list(preProcessVal.values()) == list(expectedVal.values()))\n",
    "assert(list(preProcessVal.keys()) == list(expectedVal.keys()))\n",
    "\n",
    "### Test Zillow Preprocessing ###\n",
    "# We created a mini zillow dataset containing one zillow entries.\n",
    "# We compared the output to expected outputs\n",
    "\n",
    "df = ppZ.zillPreProcess('testerZillow.csv', fileNameOut='testOut')\n",
    "\n",
    "# check postal codes are correct\n",
    "assert(sorted(list(df[\"postalCode\"])) == [89117, 89121, 89147])\n",
    "\n",
    "# check zhvi are correct\n",
    "assert(sorted(list(df[\"zhvi\"])) == [228200, 279000, 333600])\n"
   ]
  },
  {
   "cell_type": "markdown",
   "metadata": {},
   "source": [
    "Additional tests were done in [mainAnalysis.ipynb](mainAnalysis.ipynb) using assert errors to verify that our code was working."
   ]
  }
 ],
 "metadata": {
  "kernelspec": {
   "display_name": "Python 3",
   "language": "python",
   "name": "python3"
  },
  "language_info": {
   "codemirror_mode": {
    "name": "ipython",
    "version": 3
   },
   "file_extension": ".py",
   "mimetype": "text/x-python",
   "name": "python",
   "nbconvert_exporter": "python",
   "pygments_lexer": "ipython3",
   "version": "3.7.1"
  }
 },
 "nbformat": 4,
 "nbformat_minor": 2
}
