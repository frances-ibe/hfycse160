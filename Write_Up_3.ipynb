{
 "cells": [
  {
   "cell_type": "markdown",
   "metadata": {},
   "source": [
    "# Datasets for the project"
   ]
  },
  {
   "cell_type": "markdown",
   "metadata": {},
   "source": [
    "## Yelp Dataset\n",
    "\n",
    "Used to get restaurant information within the Las Vegas City Limits. We filtered the data to include only restaurants in Las Vegas, we then computed average rating and price per zip code region. We also stored the number of restaurant per zip code.\n",
    "\n",
    "Link: https://www.yelp.com/dataset/\n",
    "\n",
    "Date Accessed: February 2019"
   ]
  },
  {
   "cell_type": "markdown",
   "metadata": {},
   "source": [
    "## Zillow Home Data\n",
    "\n",
    "Used to get home value information for the zip code regions in Las Vegas. We average the ZHVI metric for each zip code region.\n",
    "\n",
    "Link: https://www.zillow.com/research/data/\n",
    "\n",
    "Date Accessed: February 2019"
   ]
  },
  {
   "cell_type": "markdown",
   "metadata": {},
   "source": [
    "## IRS SOI Taxpayer Data\n",
    "\n",
    "Used to get income information for the zip code regions in Las Vegas. We filtered by zip codes within the city and used the AGI (adjusted gross income) sum and the number of tax returns to get the per capita average income in each region.\n",
    "\n",
    "Link: https://www.irs.gov/statistics/soi-tax-stats-individual-income-tax-statistics-2016-zip-code-data-soi\n",
    "\n",
    "Date Accessed: February 2019"
   ]
  },
  {
   "cell_type": "markdown",
   "metadata": {},
   "source": [
    "## Nevada ZipCodes GeoJSON Data\n",
    "\n",
    "This data was used as-is to draw zip code boundaries on the map visulaitions. Filtered for zip codes within Las Vegas.\n",
    "\n",
    "Link: https://raw.githubusercontent.com/OpenDataDE/State-zip-code-GeoJSON/master/nv_nevada_zip_codes_geo.min.json\n",
    "\n",
    "Date Accessed: March 2019"
   ]
  }
 ],
 "metadata": {
  "kernelspec": {
   "display_name": "Python 3",
   "language": "python",
   "name": "python3"
  },
  "language_info": {
   "codemirror_mode": {
    "name": "ipython",
    "version": 3
   },
   "file_extension": ".py",
   "mimetype": "text/x-python",
   "name": "python",
   "nbconvert_exporter": "python",
   "pygments_lexer": "ipython3",
   "version": "3.7.1"
  }
 },
 "nbformat": 4,
 "nbformat_minor": 2
}
