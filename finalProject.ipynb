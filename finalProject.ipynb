{
 "cells": [
  {
   "cell_type": "markdown",
   "metadata": {},
   "source": [
    "# Catching those $$$\n",
    "### Analyzing Restaurant Consumer Buying Power in Las Vegas\n",
    "------\n",
    "#### Parker Grosjean, Frances Ingram-Bate, Nathaniel Linden"
   ]
  },
  {
   "cell_type": "markdown",
   "metadata": {},
   "source": [
    "## 1 Summary of Research Questions and Results"
   ]
  },
  {
   "cell_type": "markdown",
   "metadata": {},
   "source": [
    "## 2 Motivation and Background\n",
    "\n",
    "Consumer buying power is an important metric used by businesses to represent their ability to succeed at a price point in a given marketplace. Thus, having a proxy for consumer buying power is critical for establishing business success strategies, as well as understanding social and class spending habits. A Consumer Price Index (CPI) is a measure of the change in prices consumers pay for a set basket of goods, which is the most commonly used proxy for understanding consumer buying power in a marketplace. However, the CPI lacks the ability to distinguish subtle differences in buying power of consumers of varying socioeconomic classes. Hence, our project seeks to understand how consumers of higher socioeconomic classes versus lower socioeconomic classes rate goods at a certain price point. Our project uses food from restaurants as a proxy for a basket of goods, which limits this analysis to restaurant consumer buying power. However, restaurants are included as one of the goods in the basket that is used to establish the overall CPI, so our analysis is useful when combined with the sub CPI specific to restaurants. For analyzing economic class, we used a predicted median housing price index (Zestimate) and mean income from IRS tax returns as proxies. This analysis provides insight into how consumers view purchasing of goods at certain price points based on the socioeconomic standing within a zip code of interest. This analysis is especially useful in combination with the CPI in estimating whether a business has the ability to succeed in a marketplace at a given price point. This analysis is useful to restaurant owners in the in Las Vegas, Nevada as it provides market insight for restaurants in a per zip code manner."
   ]
  },
  {
   "cell_type": "markdown",
   "metadata": {},
   "source": [
    "## 3 Datasets\n",
    "\n",
    "### Yelp Dataset\n",
    "\n",
    "Used to get restaurant information within the Las Vegas City Limits. We filtered the data to include only restaurants in Las Vegas, we then computed average rating and price per zip code reigon. We also stored the number of restaurant per zip code.\n",
    "\n",
    "Link: https://www.yelp.com/dataset/\n",
    "\n",
    "Date Accessed: February 2019\n",
    "\n",
    "### Zillow Home Data\n",
    "\n",
    "Used to get home value information for the zip code regions in Las Vegas. We average the ZHVI metric for each zip code region.\n",
    "\n",
    "Link: https://www.zillow.com/research/data/\n",
    "\n",
    "Date Accessed: February 2019\n",
    "\n",
    "### IRS ZOI Taxpayer Data\n",
    "\n",
    "Used to get income information for the zip code regions in Las Vegas. We filtered by zip codes within the city and used the AGI (adjusted gross income) sum and the number of tax returns to get the per capita average income in each region.\n",
    "\n",
    "Link: https://www.irs.gov/statistics/soi-tax-stats-individual-income-tax-statistics-2016-zip-code-data-soi\n",
    "\n",
    "Date Accessed: February 2019\n",
    "\n",
    "### Nevada ZipCodes GeoJSON Data\n",
    "\n",
    "This data was used as-is to draw zip code boundaries on the map visulaitions. Filtered for zip codes within Las Vegas.\n",
    "\n",
    "Link: https://raw.githubusercontent.com/OpenDataDE/State-zip-code-GeoJSON/master/nv_nevada_zip_codes_geo.min.json\n",
    "\n",
    "Date Accessed: March 2019"
   ]
  },
  {
   "cell_type": "markdown",
   "metadata": {},
   "source": [
    "## 4 Methodology\n",
    "\n",
    "See [Write_Up_4.ipynb](Write_Up_4.ipynb)."
   ]
  },
  {
   "cell_type": "markdown",
   "metadata": {},
   "source": [
    "## 5 Results\n",
    "\n",
    "See [Write_Up_5.ipynb](Write_Up_5.ipynb)."
   ]
  },
  {
   "cell_type": "markdown",
   "metadata": {},
   "source": [
    "## 6 Reproduction of Results\n",
    "\n",
    "See [Write_Up_6.ipynb](Write_Up_6.ipynb)."
   ]
  },
  {
   "cell_type": "markdown",
   "metadata": {},
   "source": [
    "## 7 Work Plan Evaluation\n",
    "\n",
    "See [Write_Up_7.ipynb](Write_Up_7.ipynb)"
   ]
  },
  {
   "cell_type": "markdown",
   "metadata": {},
   "source": [
    "## 8 Testing the Code\n",
    "\n",
    "See [Write_Up_8.ipynb](Write_Up_8.ipynb)."
   ]
  },
  {
   "cell_type": "markdown",
   "metadata": {},
   "source": [
    "## 9 Live Presentation or Video\n",
    "\n",
    "We will be presenting in Class March 18th, 2019."
   ]
  },
  {
   "cell_type": "markdown",
   "metadata": {},
   "source": [
    "## 10 Collaboration \n",
    "\n",
    "We (Parker Grosjean, Frances Ingram-Bate, Nate Linden), did not receive any help from individuals outside our group."
   ]
  }
 ],
 "metadata": {
  "kernelspec": {
   "display_name": "Python 3",
   "language": "python",
   "name": "python3"
  },
  "language_info": {
   "codemirror_mode": {
    "name": "ipython",
    "version": 3
   },
   "file_extension": ".py",
   "mimetype": "text/x-python",
   "name": "python",
   "nbconvert_exporter": "python",
   "pygments_lexer": "ipython3",
   "version": "3.7.1"
  }
 },
 "nbformat": 4,
 "nbformat_minor": 2
}
