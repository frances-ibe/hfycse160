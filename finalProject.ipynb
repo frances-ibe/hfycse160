{
 "cells": [
  {
   "cell_type": "markdown",
   "metadata": {},
   "source": [
    "# Catching those $$$\n",
    "### Analyzing Restaurant Consumer Buying Power in Las Vegas\n",
    "------\n",
    "#### Parker Grosjean, Frances Ingram-Bate, Nathaniel Linden"
   ]
  },
  {
   "cell_type": "markdown",
   "metadata": {},
   "source": [
    "## 1 Summary of Research Questions and Results\n",
    "\n",
    "#### This data analysis aimed to explore the interactions between restaurant pricing, household income, and housing cost across different areas in a city. To do so, we focused on the city of Las Vegas, Nevada. Our research questions were as follows:\n",
    "\n",
    "##### Are there any trends across zip code areas concerning restaurant pricing, household income, and housing cost?\n",
    "- We found relatively strong positive correlations between Zillow Home Value Index and mean income, and between mean restaurant price and mean income, Pearson’s correlation coefficients of 0.774 and 0.677, respectively. Alternatively we found a weak correlation between mean restaurant price and Zillow Home Value Index, Pearson’s correlation coefficient of 0.242. \n",
    "\n",
    "##### Can we predict average restaurant pricing in a zip code area from median house value and average household income?\n",
    "- By fitting two linear regression models to attempt to predict average restaurant price from Zillow Home Value Index (ZHVI) and mean income, we found that there was no significant linear relationship between these metrics across zip code regions. The R-squared metrics of correlation are: 0.037 and 0.288 for the model between average price and ZHVI and between average price and mean income, respectively.\n",
    "\t\n",
    "##### Does restaurant star rating across price point level vary for different zip code  areas? What are trends in such variance across zip code areas and how does it relate to socioeconomic factors such as median house value and average household income?\n",
    "\t\n",
    "- We found that there are statistically significant difference between restaurant price and rating distribution across zip code regions in Las Vegas. By leveraging this finding we found that for more expensive restaurants (price level 2, 3 and 4) that there is a relatively significant positive correlation between socioeconomics and the prevalence of these restaurants. We also found that there is a negative correlation for cheap restaurants between socioeconomic factors and restaurant prevalence. Furthermore, we proved the statistical difference between price point levels within zip codes and used this finding to draw conclusions on how consumers make spending decisions. \n"
   ]
  },
  {
   "cell_type": "markdown",
   "metadata": {},
   "source": [
    "## 2 Motivation and Background\n",
    "\n",
    "Consumer buying power is an important metric used by businesses to represent their ability to succeed at a price point in a given marketplace. Thus, having a proxy for consumer buying power is critical for establishing business success strategies, as well as understanding social and class spending habits. A Consumer Price Index (CPI) is a measure of the change in prices consumers pay for a set basket of goods, which is the most commonly used proxy for understanding consumer buying power in a marketplace. However, the CPI lacks the ability to distinguish subtle differences in buying power of consumers of varying socioeconomic classes. Hence, our project seeks to understand how consumers of higher socioeconomic classes versus lower socioeconomic classes rate goods at a certain price point. Our project uses food from restaurants as a proxy for a basket of goods, which limits this analysis to restaurant consumer buying power. However, restaurants are included as one of the goods in the basket that is used to establish the overall CPI, so our analysis is useful when combined with the sub CPI specific to restaurants. For analyzing economic class, we used a predicted median housing price index (Zestimate) and mean income from IRS tax returns as proxies. This analysis provides insight into how consumers view purchasing of goods at certain price points based on the socioeconomic standing within a zip code of interest. This analysis is especially useful in combination with the CPI in estimating whether a business has the ability to succeed in a marketplace at a given price point. This analysis is useful to restaurant owners in the in Las Vegas, Nevada as it provides market insight for restaurants in a per zip code manner."
   ]
  },
  {
   "cell_type": "markdown",
   "metadata": {},
   "source": [
    "## 3 Datasets\n",
    "\n",
    "### Yelp Dataset\n",
    "\n",
    "Used to get restaurant information within the Las Vegas City Limits. We filtered the data to include only restaurants in Las Vegas, we then computed average rating and price per zip code reigon. We also stored the number of restaurant per zip code.\n",
    "\n",
    "Link: https://www.yelp.com/dataset/\n",
    "\n",
    "Date Accessed: February 2019\n",
    "\n",
    "### Zillow Home Data\n",
    "\n",
    "Used to get home value information for the zip code regions in Las Vegas. We average the ZHVI metric for each zip code region.\n",
    "\n",
    "Link: https://www.zillow.com/research/data/\n",
    "\n",
    "Date Accessed: February 2019\n",
    "\n",
    "### IRS ZOI Taxpayer Data\n",
    "\n",
    "Used to get income information for the zip code regions in Las Vegas. We filtered by zip codes within the city and used the AGI (adjusted gross income) sum and the number of tax returns to get the per capita average income in each region.\n",
    "\n",
    "Link: https://www.irs.gov/statistics/soi-tax-stats-individual-income-tax-statistics-2016-zip-code-data-soi\n",
    "\n",
    "Date Accessed: February 2019\n",
    "\n",
    "### Nevada ZipCodes GeoJSON Data\n",
    "\n",
    "This data was used as-is to draw zip code boundaries on the map visulaitions. Filtered for zip codes within Las Vegas.\n",
    "\n",
    "Link: https://raw.githubusercontent.com/OpenDataDE/State-zip-code-GeoJSON/master/nv_nevada_zip_codes_geo.min.json\n",
    "\n",
    "Date Accessed: March 2019"
   ]
  },
  {
   "cell_type": "markdown",
   "metadata": {},
   "source": [
    "## 4 Methodology\n",
    "\n",
    "For the metods used see [Methods](Write_Up_4.ipynb)."
   ]
  },
  {
   "cell_type": "markdown",
   "metadata": {},
   "source": [
    "## 5 Results\n",
    "\n",
    "For analysis of the resutls see [Results and Analysis](Write_Up_5.ipynb)."
   ]
  },
  {
   "cell_type": "markdown",
   "metadata": {},
   "source": [
    "## 6 Reproduction of Results\n",
    "\n",
    "For all code used see: [Code](Write_Up_6.ipynb)."
   ]
  },
  {
   "cell_type": "markdown",
   "metadata": {},
   "source": [
    "## 7 Work Plan Evaluation\n",
    "\n",
    "For an evaluation of our workplan see: [Workplan Reflection](Write_Up_7.ipynb)"
   ]
  },
  {
   "cell_type": "markdown",
   "metadata": {},
   "source": [
    "## 8 Testing the Code\n",
    "\n",
    "For an explanation of out test code see: [Testing](Write_Up_8.ipynb)."
   ]
  },
  {
   "cell_type": "markdown",
   "metadata": {},
   "source": [
    "## 9 Live Presentation or Video\n",
    "\n",
    "We will be presenting in Class March 18th, 2019."
   ]
  },
  {
   "cell_type": "markdown",
   "metadata": {},
   "source": [
    "## 10 Collaboration \n",
    "\n",
    "We (Parker Grosjean, Frances Ingram-Bate, Nate Linden), did not receive any help from individuals outside our group."
   ]
  }
 ],
 "metadata": {
  "kernelspec": {
   "display_name": "Python 3",
   "language": "python",
   "name": "python3"
  },
  "language_info": {
   "codemirror_mode": {
    "name": "ipython",
    "version": 3
   },
   "file_extension": ".py",
   "mimetype": "text/x-python",
   "name": "python",
   "nbconvert_exporter": "python",
   "pygments_lexer": "ipython3",
   "version": "3.7.1"
  }
 },
 "nbformat": 4,
 "nbformat_minor": 2
}
