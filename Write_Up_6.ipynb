{
 "cells": [
  {
   "cell_type": "markdown",
   "metadata": {},
   "source": [
    "# 6 Reproducing Our Results\n",
    "\n",
    "The following document contains links to our python scripts along with brief descriptions of what tasks these files complete. It also lists the internal (code we wrote) dependancies of each file."
   ]
  },
  {
   "cell_type": "markdown",
   "metadata": {},
   "source": [
    "## Pre Processing Script: Preprocess Large Downloaded Data to use for further analysis.\n",
    "\n",
    "Depends on: preProcessIRS.py, preProcessZillow.py, preProcessYelp.py\n",
    "    \n",
    "see: [preProcess](preProcess.ipynb) for the code"
   ]
  },
  {
   "cell_type": "code",
   "execution_count": null,
   "metadata": {},
   "outputs": [],
   "source": [
    "%run dataPreprocessingScript.py"
   ]
  },
  {
   "cell_type": "markdown",
   "metadata": {},
   "source": [
    "## Main Analysis Script: Performs the bulk of our analysis.\n",
    "\n",
    "Depends on: spatialMapping.py\n",
    "\n",
    "see: [mainAnalysis](mainAnalysis.ipynb) for the code"
   ]
  },
  {
   "cell_type": "code",
   "execution_count": null,
   "metadata": {},
   "outputs": [],
   "source": [
    "%run mainAnalysis.py"
   ]
  },
  {
   "cell_type": "markdown",
   "metadata": {},
   "source": [
    "## Spatial Plotting Script: Plot Choropleth Maps Using Geopandas\n",
    "\n",
    "Depends on GeoJSON data: https://raw.githubusercontent.com/OpenDataDE/State-zip-code-GeoJSON/master/nv_nevada_zip_codes_geo.min.json\n",
    "\n",
    "see [spatialMapping](spatialMapping.ipynb) for the code"
   ]
  },
  {
   "cell_type": "markdown",
   "metadata": {},
   "source": [
    "## Zillow Preprocessing: Creates a csv containing filtered data from the Zillow Dataset\n",
    "\n",
    "   Depends on: Yelp Data from: https://www.zillow.com/research/data/ \n",
    "    \n",
    "   see: [preProcessZillow](preProcessZillow.ipynb) for the code"
   ]
  },
  {
   "cell_type": "markdown",
   "metadata": {},
   "source": [
    "## Yelp Preprocessing: Creates a csv containing filtered data from the Yelp Bussiness.json Dataset\n",
    "\n",
    "   Depends on: Zillow Data from: https://www.yelp.com/dataset/  \n",
    "    \n",
    "   see: [preProcessYelp](preProcessYelp.ipynb) for the code"
   ]
  },
  {
   "cell_type": "markdown",
   "metadata": {},
   "source": [
    "## IRS Preprocessing: Creates a dictionary containing filtered data from the IRS SOI Dataset\n",
    "\n",
    "Depends on: IRS Data from: https://raw.githubusercontent.com/OpenDataDE/State-zip-code-GeoJSON/master/nv_nevada_zip_codes_geo.min.json \n",
    "    \n",
    "see: [preProcessIRS](preProcessIRS.ipynb) for the code"
   ]
  },
  {
   "cell_type": "markdown",
   "metadata": {},
   "source": [
    "## Testing Code: Described in detail in the linked notebook\n",
    "\n",
    "Depends on: preProcessIRS.py, preProcessYelp.py, preProcessZillow.py, 16zp29nv.csv, testerYelp.json, testerZillow.csv\n",
    "\n",
    "see: [testCode](Write_Up_8.ipynb) for the code"
   ]
  },
  {
   "cell_type": "code",
   "execution_count": null,
   "metadata": {},
   "outputs": [],
   "source": []
  }
 ],
 "metadata": {
  "kernelspec": {
   "display_name": "Python 3",
   "language": "python",
   "name": "python3"
  },
  "language_info": {
   "codemirror_mode": {
    "name": "ipython",
    "version": 3
   },
   "file_extension": ".py",
   "mimetype": "text/x-python",
   "name": "python",
   "nbconvert_exporter": "python",
   "pygments_lexer": "ipython3",
   "version": "3.7.1"
  }
 },
 "nbformat": 4,
 "nbformat_minor": 2
}
