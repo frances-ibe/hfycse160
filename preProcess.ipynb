{
 "cells": [
  {
   "cell_type": "code",
   "execution_count": null,
   "metadata": {},
   "outputs": [],
   "source": [
    "\"\"\" The following code performs data preprocessing for the completion of\n",
    "out CSE 160 final project. All supporting code and preprocessed data will be\n",
    "made available.\n",
    "\n",
    "Authors: Frances Ingram-Bate, Parker Grosjean, Nathaniel Linden\n",
    "\n",
    "Updated: March 8th 2019\n",
    "\n",
    "Abbreviations (We will use these throughout the script):\n",
    "-  zhvi - zillow homw value index\n",
    "-  avgPrice - average restuarant price\n",
    "-  yzi - yelp, zillow, IRS\n",
    "\n",
    "Note: This code is requrires the preprocessed data files, alongside the geoJSON\n",
    "file in the same directory in order to compile.\n",
    "\"\"\"\n",
    "\n",
    "import preProcessZillow as ppz\n",
    "import preProcessIRS as ppi\n",
    "import preProcessYelp as ppy\n",
    "import pandas as pd\n",
    "\n",
    "# preProcess zillow - saves a csv of preProcess data to cwd\n",
    "ppz.zillPreProcess(\"Zip_Zhvi_Summary_AllHomes.csv\", targetCity = \"Las Vegas\")\n",
    "\n",
    "# preProcess IRS - saves a csv of preProcess data to cwd\n",
    "irsDict = ppi.preProcess(\"16zp29nv.csv\", ppz.zipcodeList())\n",
    "df = ppz.dictToCSVDF(irsDict, cols=('postalCode', 'income'))\n",
    "df.to_csv('vegasIRS.csv')\n",
    "\n",
    "# preProcess yelp - saves a csv of preProcess data to cwd\n",
    "ppy.preProcess()\n"
   ]
  }
 ],
 "metadata": {
  "kernelspec": {
   "display_name": "Python 3",
   "language": "python",
   "name": "python3"
  },
  "language_info": {
   "codemirror_mode": {
    "name": "ipython",
    "version": 3
   },
   "file_extension": ".py",
   "mimetype": "text/x-python",
   "name": "python",
   "nbconvert_exporter": "python",
   "pygments_lexer": "ipython3",
   "version": "3.7.1"
  }
 },
 "nbformat": 4,
 "nbformat_minor": 2
}
